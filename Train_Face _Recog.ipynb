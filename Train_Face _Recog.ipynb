{
 "cells": [
  {
   "cell_type": "code",
   "execution_count": 1,
   "metadata": {},
   "outputs": [
    {
     "name": "stdout",
     "output_type": "stream",
     "text": [
      "1 Physical GPUs, 1 Logical GPUs\n"
     ]
    }
   ],
   "source": [
    "import tensorflow as tf \n",
    "gpus = tf.config.experimental.list_physical_devices('GPU')\n",
    "if gpus:\n",
    "    try:\n",
    "        # Restrict TensorFlow to only use the fourth GPU\n",
    "        tf.config.experimental.set_visible_devices(gpus[0], 'GPU')\n",
    "\n",
    "        # Currently, memory growth needs to be the same across GPUs\n",
    "        for gpu in gpus:\n",
    "            tf.config.experimental.set_memory_growth(gpu, True)\n",
    "        logical_gpus = tf.config.experimental.list_logical_devices('GPU')\n",
    "        print(len(gpus), \"Physical GPUs,\", len(logical_gpus), \"Logical GPUs\")\n",
    "    except RuntimeError as e:\n",
    "        # Memory growth must be set before GPUs have been initialized\n",
    "        print(e)"
   ]
  },
  {
   "cell_type": "code",
   "execution_count": 2,
   "metadata": {},
   "outputs": [
    {
     "name": "stderr",
     "output_type": "stream",
     "text": [
      "Using TensorFlow backend.\n"
     ]
    }
   ],
   "source": [
    "from keras.applications import VGG16\n"
   ]
  },
  {
   "cell_type": "code",
   "execution_count": 3,
   "metadata": {},
   "outputs": [],
   "source": [
    "model = VGG16(weights = 'imagenet', \n",
    "                 include_top = False, \n",
    "                 input_shape = (224, 224, 3))\n"
   ]
  },
  {
   "cell_type": "code",
   "execution_count": 4,
   "metadata": {},
   "outputs": [
    {
     "name": "stdout",
     "output_type": "stream",
     "text": [
      "Model: \"vgg16\"\n",
      "_________________________________________________________________\n",
      "Layer (type)                 Output Shape              Param #   \n",
      "=================================================================\n",
      "input_1 (InputLayer)         (None, 224, 224, 3)       0         \n",
      "_________________________________________________________________\n",
      "block1_conv1 (Conv2D)        (None, 224, 224, 64)      1792      \n",
      "_________________________________________________________________\n",
      "block1_conv2 (Conv2D)        (None, 224, 224, 64)      36928     \n",
      "_________________________________________________________________\n",
      "block1_pool (MaxPooling2D)   (None, 112, 112, 64)      0         \n",
      "_________________________________________________________________\n",
      "block2_conv1 (Conv2D)        (None, 112, 112, 128)     73856     \n",
      "_________________________________________________________________\n",
      "block2_conv2 (Conv2D)        (None, 112, 112, 128)     147584    \n",
      "_________________________________________________________________\n",
      "block2_pool (MaxPooling2D)   (None, 56, 56, 128)       0         \n",
      "_________________________________________________________________\n",
      "block3_conv1 (Conv2D)        (None, 56, 56, 256)       295168    \n",
      "_________________________________________________________________\n",
      "block3_conv2 (Conv2D)        (None, 56, 56, 256)       590080    \n",
      "_________________________________________________________________\n",
      "block3_conv3 (Conv2D)        (None, 56, 56, 256)       590080    \n",
      "_________________________________________________________________\n",
      "block3_pool (MaxPooling2D)   (None, 28, 28, 256)       0         \n",
      "_________________________________________________________________\n",
      "block4_conv1 (Conv2D)        (None, 28, 28, 512)       1180160   \n",
      "_________________________________________________________________\n",
      "block4_conv2 (Conv2D)        (None, 28, 28, 512)       2359808   \n",
      "_________________________________________________________________\n",
      "block4_conv3 (Conv2D)        (None, 28, 28, 512)       2359808   \n",
      "_________________________________________________________________\n",
      "block4_pool (MaxPooling2D)   (None, 14, 14, 512)       0         \n",
      "_________________________________________________________________\n",
      "block5_conv1 (Conv2D)        (None, 14, 14, 512)       2359808   \n",
      "_________________________________________________________________\n",
      "block5_conv2 (Conv2D)        (None, 14, 14, 512)       2359808   \n",
      "_________________________________________________________________\n",
      "block5_conv3 (Conv2D)        (None, 14, 14, 512)       2359808   \n",
      "_________________________________________________________________\n",
      "block5_pool (MaxPooling2D)   (None, 7, 7, 512)         0         \n",
      "=================================================================\n",
      "Total params: 14,714,688\n",
      "Trainable params: 14,714,688\n",
      "Non-trainable params: 0\n",
      "_________________________________________________________________\n"
     ]
    }
   ],
   "source": [
    "model.summary()"
   ]
  },
  {
   "cell_type": "code",
   "execution_count": 5,
   "metadata": {},
   "outputs": [],
   "source": [
    "from keras.models import Sequential\n",
    "from keras.layers import Dense, Dropout, Activation, Flatten\n",
    "from keras.layers import Conv2D, MaxPooling2D, ZeroPadding2D\n",
    "from keras.layers.normalization import BatchNormalization\n",
    "from keras.models import Model"
   ]
  },
  {
   "cell_type": "code",
   "execution_count": 6,
   "metadata": {},
   "outputs": [],
   "source": [
    "for layer in model.layers:\n",
    "    layer.trainable = False"
   ]
  },
  {
   "cell_type": "code",
   "execution_count": 7,
   "metadata": {},
   "outputs": [],
   "source": [
    "top_model = model.output\n",
    "top_model = Flatten(name = \"flatten\")(top_model)\n",
    "top_model = Dense(512, activation = \"relu\")(top_model)\n",
    "top_model = Dense(256, activation = \"relu\")(top_model)\n",
    "top_model = Dropout(0.3)(top_model)\n",
    "top_model = Dense(2 , activation = \"softmax\")(top_model)\n"
   ]
  },
  {
   "cell_type": "code",
   "execution_count": 8,
   "metadata": {},
   "outputs": [],
   "source": [
    "newmodel = Model(inputs=model.input , outputs=top_model)\n"
   ]
  },
  {
   "cell_type": "code",
   "execution_count": 9,
   "metadata": {},
   "outputs": [
    {
     "name": "stdout",
     "output_type": "stream",
     "text": [
      "Model: \"model_1\"\n",
      "_________________________________________________________________\n",
      "Layer (type)                 Output Shape              Param #   \n",
      "=================================================================\n",
      "input_1 (InputLayer)         (None, 224, 224, 3)       0         \n",
      "_________________________________________________________________\n",
      "block1_conv1 (Conv2D)        (None, 224, 224, 64)      1792      \n",
      "_________________________________________________________________\n",
      "block1_conv2 (Conv2D)        (None, 224, 224, 64)      36928     \n",
      "_________________________________________________________________\n",
      "block1_pool (MaxPooling2D)   (None, 112, 112, 64)      0         \n",
      "_________________________________________________________________\n",
      "block2_conv1 (Conv2D)        (None, 112, 112, 128)     73856     \n",
      "_________________________________________________________________\n",
      "block2_conv2 (Conv2D)        (None, 112, 112, 128)     147584    \n",
      "_________________________________________________________________\n",
      "block2_pool (MaxPooling2D)   (None, 56, 56, 128)       0         \n",
      "_________________________________________________________________\n",
      "block3_conv1 (Conv2D)        (None, 56, 56, 256)       295168    \n",
      "_________________________________________________________________\n",
      "block3_conv2 (Conv2D)        (None, 56, 56, 256)       590080    \n",
      "_________________________________________________________________\n",
      "block3_conv3 (Conv2D)        (None, 56, 56, 256)       590080    \n",
      "_________________________________________________________________\n",
      "block3_pool (MaxPooling2D)   (None, 28, 28, 256)       0         \n",
      "_________________________________________________________________\n",
      "block4_conv1 (Conv2D)        (None, 28, 28, 512)       1180160   \n",
      "_________________________________________________________________\n",
      "block4_conv2 (Conv2D)        (None, 28, 28, 512)       2359808   \n",
      "_________________________________________________________________\n",
      "block4_conv3 (Conv2D)        (None, 28, 28, 512)       2359808   \n",
      "_________________________________________________________________\n",
      "block4_pool (MaxPooling2D)   (None, 14, 14, 512)       0         \n",
      "_________________________________________________________________\n",
      "block5_conv1 (Conv2D)        (None, 14, 14, 512)       2359808   \n",
      "_________________________________________________________________\n",
      "block5_conv2 (Conv2D)        (None, 14, 14, 512)       2359808   \n",
      "_________________________________________________________________\n",
      "block5_conv3 (Conv2D)        (None, 14, 14, 512)       2359808   \n",
      "_________________________________________________________________\n",
      "block5_pool (MaxPooling2D)   (None, 7, 7, 512)         0         \n",
      "_________________________________________________________________\n",
      "flatten (Flatten)            (None, 25088)             0         \n",
      "_________________________________________________________________\n",
      "dense_1 (Dense)              (None, 512)               12845568  \n",
      "_________________________________________________________________\n",
      "dense_2 (Dense)              (None, 256)               131328    \n",
      "_________________________________________________________________\n",
      "dropout_1 (Dropout)          (None, 256)               0         \n",
      "_________________________________________________________________\n",
      "dense_3 (Dense)              (None, 2)                 514       \n",
      "=================================================================\n",
      "Total params: 27,692,098\n",
      "Trainable params: 12,977,410\n",
      "Non-trainable params: 14,714,688\n",
      "_________________________________________________________________\n"
     ]
    }
   ],
   "source": [
    "newmodel.summary()"
   ]
  },
  {
   "cell_type": "code",
   "execution_count": 10,
   "metadata": {},
   "outputs": [],
   "source": [
    "from keras.preprocessing.image import ImageDataGenerator"
   ]
  },
  {
   "cell_type": "code",
   "execution_count": 11,
   "metadata": {},
   "outputs": [],
   "source": [
    "train_datagen = ImageDataGenerator(\n",
    "      rescale=1./255,\n",
    "      rotation_range=45,\n",
    "      width_shift_range=0.3,\n",
    "      height_shift_range=0.3,\n",
    "      horizontal_flip=True,\n",
    "      fill_mode='nearest')"
   ]
  },
  {
   "cell_type": "code",
   "execution_count": 12,
   "metadata": {},
   "outputs": [],
   "source": [
    "validation_datagen = ImageDataGenerator(rescale=1./255)"
   ]
  },
  {
   "cell_type": "code",
   "execution_count": 13,
   "metadata": {},
   "outputs": [],
   "source": [
    "train_batchsize = 30\n",
    "val_batchsize = 16"
   ]
  },
  {
   "cell_type": "code",
   "execution_count": 14,
   "metadata": {},
   "outputs": [
    {
     "name": "stdout",
     "output_type": "stream",
     "text": [
      "Found 2584 images belonging to 2 classes.\n"
     ]
    }
   ],
   "source": [
    "train_generator = train_datagen.flow_from_directory(\n",
    "        'C:/Users/MAC/Desktop/MLOPS/DATASETS/datasets/160647_367971_bundle_archive_3/data/train_set',\n",
    "        target_size=(224, 224),\n",
    "        batch_size=train_batchsize,\n",
    "        class_mode='categorical')\n",
    " "
   ]
  },
  {
   "cell_type": "code",
   "execution_count": 15,
   "metadata": {},
   "outputs": [
    {
     "name": "stdout",
     "output_type": "stream",
     "text": [
      "Found 725 images belonging to 2 classes.\n"
     ]
    }
   ],
   "source": [
    "validation_generator = validation_datagen.flow_from_directory(\n",
    "        'C:/Users/MAC/Desktop/MLOPS/DATASETS/datasets/160647_367971_bundle_archive_3/data/test_set',\n",
    "        target_size=(224, 224 ),\n",
    "        batch_size=val_batchsize,\n",
    "        class_mode='categorical')"
   ]
  },
  {
   "cell_type": "code",
   "execution_count": 16,
   "metadata": {},
   "outputs": [],
   "source": [
    "from keras.optimizers import RMSprop\n"
   ]
  },
  {
   "cell_type": "code",
   "execution_count": 17,
   "metadata": {},
   "outputs": [],
   "source": [
    "newmodel.compile(loss = 'categorical_crossentropy',\n",
    "              optimizer = RMSprop( lr = 0.001 ),\n",
    "              metrics = ['accuracy'])"
   ]
  },
  {
   "cell_type": "code",
   "execution_count": 18,
   "metadata": {},
   "outputs": [
    {
     "name": "stdout",
     "output_type": "stream",
     "text": [
      "Epoch 1/30\n",
      "50/50 [==============================] - 30s 604ms/step - loss: 2.6293 - accuracy: 0.5421 - val_loss: 0.7568 - val_accuracy: 0.5579\n",
      "Epoch 2/30\n",
      "50/50 [==============================] - 27s 534ms/step - loss: 0.7476 - accuracy: 0.6060 - val_loss: 0.4150 - val_accuracy: 0.7387\n",
      "Epoch 3/30\n",
      "50/50 [==============================] - 24s 472ms/step - loss: 0.6693 - accuracy: 0.6201 - val_loss: 0.6199 - val_accuracy: 0.7778\n",
      "Epoch 4/30\n",
      "50/50 [==============================] - 27s 535ms/step - loss: 0.6056 - accuracy: 0.6833 - val_loss: 0.6025 - val_accuracy: 0.7482\n",
      "Epoch 5/30\n",
      "50/50 [==============================] - 24s 490ms/step - loss: 0.5985 - accuracy: 0.7062 - val_loss: 0.3745 - val_accuracy: 0.8403\n",
      "Epoch 6/30\n",
      "50/50 [==============================] - 31s 627ms/step - loss: 0.5733 - accuracy: 0.7107 - val_loss: 0.3275 - val_accuracy: 0.8195\n",
      "Epoch 7/30\n",
      "50/50 [==============================] - 26s 516ms/step - loss: 0.5286 - accuracy: 0.7368 - val_loss: 0.1615 - val_accuracy: 0.7838\n",
      "Epoch 8/30\n",
      "50/50 [==============================] - 25s 504ms/step - loss: 0.5392 - accuracy: 0.7333 - val_loss: 0.1700 - val_accuracy: 0.8356\n",
      "Epoch 9/30\n",
      "50/50 [==============================] - 26s 514ms/step - loss: 0.5418 - accuracy: 0.7205 - val_loss: 0.3073 - val_accuracy: 0.8551\n",
      "Epoch 10/30\n",
      "50/50 [==============================] - 24s 489ms/step - loss: 0.4995 - accuracy: 0.7420 - val_loss: 0.4449 - val_accuracy: 0.7593\n",
      "Epoch 11/30\n",
      "50/50 [==============================] - 28s 562ms/step - loss: 0.4821 - accuracy: 0.7514 - val_loss: 0.3643 - val_accuracy: 0.8385\n",
      "Epoch 12/30\n",
      "50/50 [==============================] - 27s 540ms/step - loss: 0.5118 - accuracy: 0.7527 - val_loss: 0.3214 - val_accuracy: 0.8717\n",
      "Epoch 13/30\n",
      "50/50 [==============================] - 28s 570ms/step - loss: 0.4853 - accuracy: 0.7460 - val_loss: 0.2456 - val_accuracy: 0.8449\n",
      "Epoch 14/30\n",
      "50/50 [==============================] - 25s 499ms/step - loss: 0.5085 - accuracy: 0.7422 - val_loss: 0.3513 - val_accuracy: 0.8765\n",
      "Epoch 15/30\n",
      "50/50 [==============================] - 25s 504ms/step - loss: 0.4814 - accuracy: 0.7413 - val_loss: 0.2628 - val_accuracy: 0.8935\n",
      "Epoch 16/30\n",
      "50/50 [==============================] - 29s 579ms/step - loss: 0.5027 - accuracy: 0.7598 - val_loss: 0.2513 - val_accuracy: 0.8361\n",
      "Epoch 17/30\n",
      "50/50 [==============================] - 26s 526ms/step - loss: 0.5078 - accuracy: 0.7587 - val_loss: 0.5295 - val_accuracy: 0.8449\n",
      "Epoch 18/30\n",
      "50/50 [==============================] - 27s 533ms/step - loss: 0.4705 - accuracy: 0.7707 - val_loss: 0.5226 - val_accuracy: 0.8527\n",
      "Epoch 19/30\n",
      "50/50 [==============================] - 24s 482ms/step - loss: 0.4664 - accuracy: 0.7768 - val_loss: 0.3948 - val_accuracy: 0.8741\n",
      "Epoch 20/30\n",
      "50/50 [==============================] - 25s 490ms/step - loss: 0.4640 - accuracy: 0.7667 - val_loss: 0.4447 - val_accuracy: 0.7639\n",
      "Epoch 21/30\n",
      "50/50 [==============================] - 26s 519ms/step - loss: 0.4839 - accuracy: 0.7645 - val_loss: 0.1444 - val_accuracy: 0.8979\n",
      "Epoch 22/30\n",
      "50/50 [==============================] - 26s 510ms/step - loss: 0.4606 - accuracy: 0.7760 - val_loss: 0.2163 - val_accuracy: 0.8310\n",
      "Epoch 23/30\n",
      "50/50 [==============================] - 35s 693ms/step - loss: 0.4561 - accuracy: 0.7640 - val_loss: 0.3838 - val_accuracy: 0.7150\n",
      "Epoch 24/30\n",
      "50/50 [==============================] - 24s 484ms/step - loss: 0.4737 - accuracy: 0.7612 - val_loss: 0.7153 - val_accuracy: 0.8575\n",
      "Epoch 25/30\n",
      "50/50 [==============================] - 26s 526ms/step - loss: 0.4396 - accuracy: 0.7820 - val_loss: 0.1658 - val_accuracy: 0.8565\n",
      "Epoch 26/30\n",
      "50/50 [==============================] - 26s 511ms/step - loss: 0.4500 - accuracy: 0.7802 - val_loss: 0.2830 - val_accuracy: 0.8409\n",
      "Epoch 27/30\n",
      "50/50 [==============================] - 26s 527ms/step - loss: 0.4506 - accuracy: 0.7843 - val_loss: 0.2156 - val_accuracy: 0.8704\n",
      "Epoch 28/30\n",
      "50/50 [==============================] - 29s 573ms/step - loss: 0.4602 - accuracy: 0.7740 - val_loss: 0.3937 - val_accuracy: 0.8385\n",
      "Epoch 29/30\n",
      "50/50 [==============================] - 25s 494ms/step - loss: 0.4298 - accuracy: 0.8007 - val_loss: 0.3491 - val_accuracy: 0.8812\n",
      "Epoch 30/30\n",
      "50/50 [==============================] - 26s 529ms/step - loss: 0.4409 - accuracy: 0.7890 - val_loss: 0.4650 - val_accuracy: 0.8704\n"
     ]
    }
   ],
   "source": [
    "nb_train_samples = 1097\n",
    "nb_validation_samples = 272\n",
    "batch_size = 10\n",
    "history = newmodel.fit_generator(\n",
    "    train_generator,\n",
    "    steps_per_epoch = 50,\n",
    "    validation_data = validation_generator,\n",
    "    validation_steps = nb_validation_samples // batch_size,\n",
    "    epochs = 30)"
   ]
  },
  {
   "cell_type": "code",
   "execution_count": 22,
   "metadata": {},
   "outputs": [],
   "source": [
    "result_accuracy = history.history['accuracy']"
   ]
  },
  {
   "cell_type": "code",
   "execution_count": 23,
   "metadata": {},
   "outputs": [],
   "source": [
    "newmodel.save('Facial Recognition_mac.h5')"
   ]
  },
  {
   "cell_type": "code",
   "execution_count": 24,
   "metadata": {},
   "outputs": [],
   "source": [
    "newmodel.save('Facial Recognition_mac.xml')"
   ]
  },
  {
   "cell_type": "code",
   "execution_count": null,
   "metadata": {},
   "outputs": [],
   "source": []
  },
  {
   "cell_type": "code",
   "execution_count": null,
   "metadata": {},
   "outputs": [],
   "source": []
  }
 ],
 "metadata": {
  "kernelspec": {
   "display_name": "Python 3",
   "language": "python",
   "name": "python3"
  },
  "language_info": {
   "codemirror_mode": {
    "name": "ipython",
    "version": 3
   },
   "file_extension": ".py",
   "mimetype": "text/x-python",
   "name": "python",
   "nbconvert_exporter": "python",
   "pygments_lexer": "ipython3",
   "version": "3.7.7"
  }
 },
 "nbformat": 4,
 "nbformat_minor": 4
}
